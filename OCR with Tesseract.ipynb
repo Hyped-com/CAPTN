{
 "cells": [
  {
   "cell_type": "code",
   "execution_count": 1,
   "metadata": {},
   "outputs": [],
   "source": [
    "%matplotlib inline\n",
    "from pyimagesearch.transform import four_point_transform\n",
    "from PIL import Image\n",
    "import pytesseract\n",
    "import cv2\n",
    "import os\n",
    "import time\n",
    "import matplotlib.pyplot as plt\n",
    "import numpy as np\n",
    "import argparse\n",
    "import imutils\n",
    "import skimage\n",
    "from skimage.filters import threshold_local"
   ]
  },
  {
   "cell_type": "code",
   "execution_count": 2,
   "metadata": {},
   "outputs": [],
   "source": [
    "file_name = 'images/input/pingle.png'\n",
    "method = ''"
   ]
  },
  {
   "cell_type": "code",
   "execution_count": 3,
   "metadata": {},
   "outputs": [],
   "source": [
    "def display_image(img):\n",
    "\n",
    "    dpi = 80\n",
    "\n",
    "\n",
    "    # What size does the figure need to be in inches to fit the image?\n",
    "    figsize = width / float(dpi), height / float(dpi)\n",
    "\n",
    "    # Create a figure of the right size with one axes that takes up the full figure\n",
    "    fig = plt.figure(figsize=figsize)\n",
    "    ax = fig.add_axes([0, 0, 1, 1])\n",
    "\n",
    "    # Hide spines, ticks, etc.\n",
    "    ax.axis('off')\n",
    "\n",
    "    # Display the image.\n",
    "    ax.imshow(img, cmap='gray')\n",
    "\n",
    "    plt.show()"
   ]
  },
  {
   "cell_type": "code",
   "execution_count": null,
   "metadata": {},
   "outputs": [],
   "source": [
    "def getEdges(img):\n",
    "    ##(2) convert to hsv-space, then split the channels\n",
    "    hsv = cv2.cvtColor(img, cv2.COLOR_BGR2HSV)\n",
    "    h,s,v = cv2.split(hsv)\n",
    "\n",
    "    ##(3) threshold the S channel using adaptive method(`THRESH_OTSU`) or fixed thresh\n",
    "    th, threshed = cv2.threshold(s, 50, 255, cv2.THRESH_BINARY_INV)\n",
    "    \n",
    "    \n",
    "#     # convert the image to grayscale, blur it, and find edges\n",
    "#     # in the image\n",
    "#     gray = cv2.cvtColor(img, cv2.COLOR_BGR2GRAY)\n",
    "#     gray = cv2.GaussianBlur(gray, (5, 5), 0)\n",
    "#     edged = cv2.Canny(gray, 75, 200)\n",
    "\n",
    "    # show the original image and the edge detected image\n",
    "    print(\"STEP 1: Edge Detection\")\n",
    "    display_image(edged)\n",
    "    return edged"
   ]
  },
  {
   "cell_type": "code",
   "execution_count": null,
   "metadata": {},
   "outputs": [],
   "source": [
    "def findContours(orig, img, edged):\n",
    "    # Getting contours  \t\n",
    "    im2, contours, hierarchy = cv2.findContours(edged, cv2.RETR_TREE, cv2.CHAIN_APPROX_SIMPLE)\t\n",
    "    # Finding contour of biggest rectangle\t# Otherwise return corners of original image\t# Don't forget on our 5px border!\theight = edges.shape[0]\twidth = edges.shape[1]\tMAX_COUNTOUR_AREA = (width - 10) * (height - 10)\t\n",
    "    # Page fill at least half of image, then saving max area found\t\n",
    "    maxAreaFound = MAX_COUNTOUR_AREA * 0.5\n",
    "    # Saving page contour\t\n",
    "    pageContour = np.array([[5, 5], [5, height-5], [width-5, heigh-5], [widt-5, 5]])\t\n",
    "    # Go through all contours\n",
    "    for cnt in contours:\n",
    "        # Simplify contour\n",
    "        perimeter = cv2.arcLength(cnt, True)    \n",
    "        approx = cv2.approxPolyDP(cnt, 0.03 * perimeter, True)\n",
    "        # Page has 4 corners and it is convex\t    # Page area must be bigger than maxAreaFound \t    if (len(approx) == 4 and\t            cv2.isContourConvex(approx) and\t            maxAreaFound < cv2.contourArea(approx) < MAX_COUNTOUR_AREA):\t\n",
    "        maxAreaFound = cv2.contourArea(approx)\t        \n",
    "        pageContour = approx\n",
    "\n",
    "\n",
    "\n",
    "    # apply the four point transform to obtain a top-down\n",
    "    # view of the original image\n",
    "    warped = four_point_transform(orig, pageContour[:, 0] * ratio)\n",
    "\n",
    "    # convert the warped image to grayscale, then threshold it\n",
    "    # to give it that 'black and white' paper effect\n",
    "    warped = cv2.cvtColor(warped, cv2.COLOR_BGR2GRAY)\n",
    "    T = threshold_local(warped, 11, offset = 10, method = \"gaussian\")\n",
    "    warped = (warped > T).astype(\"uint8\") * 255\n",
    "\n",
    "    # show the original and scanned images\n",
    "    print(\"STEP 3: Apply perspective transform\")\n",
    "    #display_image(warped)\n",
    "    \n",
    "    return warped"
   ]
  },
  {
   "cell_type": "code",
   "execution_count": null,
   "metadata": {},
   "outputs": [],
   "source": [
    "def getString(img_path):\n",
    "    # Extract the file name without the file extension\n",
    "    file_name = os.path.basename(img_path).split('.')[0]\n",
    "    file_name = file_name.split()[0]\n",
    "\n",
    "    # Create a directory for outputs\n",
    "    output_path = os.path.join('images/output/', file_name)\n",
    "    if not os.path.exists(output_path):\n",
    "        os.makedirs(output_path)"
   ]
  },
  {
   "cell_type": "code",
   "execution_count": null,
   "metadata": {},
   "outputs": [],
   "source": [
    "def rescale(img):\n",
    "     # Rescale the image, if needed.\n",
    "    img = cv2.resize(img, None, fx=1.5, fy=1.5, interpolation=cv2.INTER_CUBIC)\n",
    "    #method += \"RS_\"\n",
    "    return img"
   ]
  },
  {
   "cell_type": "code",
   "execution_count": null,
   "metadata": {},
   "outputs": [],
   "source": [
    "def removeNoise(img):\n",
    "    # Convert to gray\n",
    "    img = cv2.cvtColor(img, cv2.COLOR_BGR2GRAY)\n",
    "\n",
    "    # Apply dilation and erosion to remove some noise\n",
    "    kernel = np.ones((1, 1), np.uint8)\n",
    "    img = cv2.dilate(img, kernel, iterations=1)\n",
    "    img = cv2.erode(img, kernel, iterations=1)\n",
    "    # Apply blur to smooth out the edges\n",
    "    img = cv2.GaussianBlur(img, (5, 5), 0)\n",
    "    #method += \"RN_\"\n",
    "    return img"
   ]
  },
  {
   "cell_type": "code",
   "execution_count": null,
   "metadata": {},
   "outputs": [],
   "source": [
    "def binarization(img):\n",
    "    # Apply threshold to get image with only b&w (binarization)\n",
    "    img = cv2.threshold(img, 0, 255, cv2.THRESH_BINARY + cv2.THRESH_OTSU)[1]\n",
    "    #method += \"BN_\"\n",
    "    return img"
   ]
  },
  {
   "cell_type": "code",
   "execution_count": null,
   "metadata": {},
   "outputs": [],
   "source": [
    "def saveResult(img):\n",
    "    # Save the filtered image in the output directory\n",
    "    save_path = os.path.join('images/output/', file_name + \"_filter_.jpg\")\n",
    "    cv2.imwrite(save_path, img)\n",
    "\n",
    "    # Recognize text with tesseract for python\n",
    "    result = pytesseract.image_to_string(img, lang=\"eng\")\n",
    "    return result"
   ]
  },
  {
   "cell_type": "code",
   "execution_count": null,
   "metadata": {},
   "outputs": [],
   "source": [
    "# Read image using opencv\n",
    "img = cv2.imread(file_name)\n",
    "height, width, depth = img.shape\n",
    "display_image(img)\n",
    "\n",
    "# load the image and compute the ratio of the old height\n",
    "# to the new height, clone it, and resize it\n",
    "ratio = img.shape[0] / 500.0\n",
    "orig = img.copy()\n",
    "img = imutils.resize(img, height = 800)\n",
    "    \n",
    "getString(file_name)"
   ]
  },
  {
   "cell_type": "code",
   "execution_count": null,
   "metadata": {},
   "outputs": [],
   "source": [
    "edged = getEdges(img)"
   ]
  },
  {
   "cell_type": "code",
   "execution_count": null,
   "metadata": {},
   "outputs": [],
   "source": [
    "img = findContours(orig, img, edged)"
   ]
  },
  {
   "cell_type": "code",
   "execution_count": null,
   "metadata": {},
   "outputs": [],
   "source": [
    "display_image(img)"
   ]
  },
  {
   "cell_type": "code",
   "execution_count": null,
   "metadata": {},
   "outputs": [],
   "source": [
    "img = rescale(img)\n",
    "#img = removeNoise(img)\n",
    "img = binarization(img)\n",
    "display_image(img)\n"
   ]
  },
  {
   "cell_type": "code",
   "execution_count": null,
   "metadata": {},
   "outputs": [],
   "source": [
    "results = saveResult(img)\n",
    "print(results)"
   ]
  },
  {
   "cell_type": "code",
   "execution_count": null,
   "metadata": {},
   "outputs": [],
   "source": []
  }
 ],
 "metadata": {
  "kernelspec": {
   "display_name": "Python 3",
   "language": "python",
   "name": "python3"
  },
  "language_info": {
   "codemirror_mode": {
    "name": "ipython",
    "version": 3
   },
   "file_extension": ".py",
   "mimetype": "text/x-python",
   "name": "python",
   "nbconvert_exporter": "python",
   "pygments_lexer": "ipython3",
   "version": "3.6.8"
  }
 },
 "nbformat": 4,
 "nbformat_minor": 2
}
